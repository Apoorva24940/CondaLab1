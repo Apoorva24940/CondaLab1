{
 "cells": [
  {
   "cell_type": "markdown",
   "id": "5d663c86",
   "metadata": {},
   "source": [
    "# Machine Learning - Lab 1\n",
    "This lab provides you with basic essentials of:\n",
    "1. Setting up your development environment (virtual environment)\n",
    "2. Python and Libraries\n"
   ]
  },
  {
   "cell_type": "markdown",
   "id": "7715ced7",
   "metadata": {},
   "source": [
    "\n",
    "# Introduction to Conda\n",
    "\n",
    "## What is Conda?\n",
    "Conda is an open-source package management system and environment management system. It simplifies the installation and management of software packages and their dependencies for Python projects.\n",
    "\n",
    "## Why use Conda?\n",
    "Conda allows you to create isolated environments for different projects, ensuring that each project has its own dependencies and packages without affecting others.\n",
    "\n",
    "## Task\n",
    "1. Install Conda by following the instructions on the official website: [Conda Installation Guide](https://docs.conda.io/projects/conda/en/latest/user-guide/install/index.html).\n",
    "2. Verify the installation by running `conda --version` in your terminal.\n",
    "\n",
    "## Assessment Question\n",
    "- Why is it beneficial to use Conda for Python environment management, especially in machine learning and data science projects?\n"
   ]
  },
  {
   "cell_type": "code",
   "execution_count": null,
   "id": "9c2f4bb7",
   "metadata": {},
   "outputs": [],
   "source": [
    "Conda is useful in machine learning and data science because it creates isolated environments, manages both Python and system dependencies, and supports reproducibility. This makes it easier to handle complex setups and avoid version conflicts across different projects.\n"
   ]
  },
  {
   "cell_type": "markdown",
   "id": "56b6940f",
   "metadata": {},
   "source": [
    "\n",
    "# Setting up a Python Environment with Conda\n",
    "\n",
    "## Creating and Managing Environments\n",
    "Conda allows you to create separate environments for different projects, each with its own set of packages.\n",
    "\n",
    "## Task\n",
    "1. Create a new Conda environment named 'ml_lab1' with Python 3.8: `conda create --name ml_lab1 python=3.8`\n",
    "2. Activate the environment: `conda activate ml_lab1`\n",
    "3. Install NumPy, Pandas, Matplotlib, and SciPy in the environment.\n",
    "\n",
    "## Assessment Question\n",
    "- Describe the steps to create a new environment in Conda and install a specific version of Python and a few packages.\n"
   ]
  },
  {
   "cell_type": "code",
   "execution_count": null,
   "id": "26a50fae",
   "metadata": {},
   "outputs": [],
   "source": [
    "To create a new Conda environment with a specific Python version, use `conda create --name myenv python=3.8`, then activate it with `conda activate myenv`. \n",
    "Install packages with `conda install package_name`, and check installed packages with `conda list`."
   ]
  },
  {
   "cell_type": "markdown",
   "id": "81701a45",
   "metadata": {},
   "source": [
    "\n",
    "# Introduction to Python Basics\n",
    "\n",
    "Python is a popular programming language for data analysis and machine learning. In this section, we'll cover basic Python syntax and data types.\n",
    "\n",
    "## Task\n",
    "Write a Python script that takes a list of numbers and returns a list containing only the even numbers.\n",
    "\n",
    "## Assessment Question\n",
    "- Explain the difference between a list and a tuple in Python.\n"
   ]
  },
  {
   "cell_type": "code",
   "execution_count": null,
   "id": "cc158494",
   "metadata": {},
   "outputs": [],
   "source": [
    "Task:\n",
    "def get_even_numbers(numbers):\n",
    "    return [num for num in numbers if num % 2 == 0]\n",
    "\n",
    "Example:\n",
    "numbers = [1, 2, 3, 4, 5, 6]\n",
    "even_numbers = get_even_numbers(numbers)\n",
    "print(even_numbers)\n",
    "\n",
    "Differences between a list and a tuple:\n",
    "In Python, lists are mutable, meaning their elements can be modified, added, or removed, whereas tuples are immutable and cannot be altered after creation. \n",
    "Lists are defined using square brackets `[]`, while tuples use parentheses `()`. \n",
    "Lists are ideal for data that might change, while tuples work well for data that should remain constant."
   ]
  },
  {
   "cell_type": "markdown",
   "id": "c64a4156",
   "metadata": {},
   "source": [
    "\n",
    "# Working with NumPy\n",
    "\n",
    "NumPy is a fundamental package for scientific computing with Python. It provides support for large, multi-dimensional arrays and matrices, along with a large collection of high-level mathematical functions to operate on these arrays.\n",
    "\n",
    "## Task\n",
    "Create a NumPy array and perform basic array operations (addition, multiplication).\n",
    "\n",
    "## Assessment Question\n",
    "- What are the advantages of using NumPy arrays over standard Python lists for numerical data?\n"
   ]
  },
  {
   "cell_type": "code",
   "execution_count": null,
   "id": "d2a5aa23",
   "metadata": {},
   "outputs": [],
   "source": [
    "import numpy as np\n",
    "arr = np.array([1, 2, 3, 4, 5])\n",
    "arr_addition = arr + 5  \n",
    "arr_multiplication = arr * 2  \n",
    "print(\"Array after addition:\", arr_addition)\n",
    "print(\"Array after multiplication:\", arr_multiplication)\n",
    "\n",
    "Advantages od using Numpy arrays over standard python lists for numerical data\n",
    "NumPy arrays are more efficient than Python lists for numerical tasks, as they consume less memory and perform operations faster. \n",
    "They also support element-wise operations, allowing for quick calculations across entire arrays without needing explicit loops, making them ideal for mathematical computations.\n",
    "\n",
    "\n"
   ]
  },
  {
   "cell_type": "markdown",
   "id": "8a3cb3bb",
   "metadata": {},
   "source": [
    "\n",
    "# Data Manipulation with Pandas\n",
    "\n",
    "Pandas is an open-source data analysis and manipulation tool, built on top of the Python programming language.\n",
    "\n",
    "## Task\n",
    "Read a CSV file into a DataFrame, display the first few rows, and filter the data based on a condition.\n",
    "\n",
    "## Assessment Question\n",
    "- Describe how a Pandas DataFrame is different from a NumPy array.\n"
   ]
  },
  {
   "cell_type": "code",
   "execution_count": null,
   "id": "0b3deb39",
   "metadata": {},
   "outputs": [],
   "source": [
    "import pandas as pd\n",
    "df = pd.read_csv('your_file.csv')\n",
    "print(df.head())\n",
    "filtered_df = df[df['age'] > 30]\n",
    "print(filtered_df)\n",
    "\n",
    "A Pandas DataFrame is a labeled, two-dimensional data structure that allows for columns of different types and provides extensive data manipulation capabilities, while a NumPy array is a homogeneous, \n",
    "multi-dimensional array optimized for numerical operations. Unlike NumPy, Pandas handles missing data and flexible indexing, making it better suited for structured data with mixed types.\n",
    "\n",
    "\n",
    "\n"
   ]
  },
  {
   "cell_type": "markdown",
   "id": "e6e65672",
   "metadata": {},
   "source": [
    "\n",
    "# Data Visualization with Matplotlib\n",
    "\n",
    "Matplotlib is a comprehensive library for creating static, animated, and interactive visualizations in Python.\n",
    "\n",
    "## Task\n",
    "Create a basic plot (line plot or bar chart) using data from a Pandas DataFrame.\n",
    "\n",
    "## Assessment Question\n",
    "- Why is data visualization important in data analysis?\n"
   ]
  },
  {
   "cell_type": "code",
   "execution_count": null,
   "id": "23c11981",
   "metadata": {},
   "outputs": [],
   "source": [
    "import pandas as pd\n",
    "import matplotlib.pyplot as plt\n",
    "data = {'Category': ['A', 'B', 'C', 'D'],\n",
    "'Value': [10, 20, 15, 25]}\n",
    "df = pd.DataFrame(data)\n",
    "df.plot(kind='bar', x='Category', y='Value')\n",
    "plt.title('Bar Chart of Categories')\n",
    "plt.xlabel('Category')\n",
    "plt.ylabel('Value')\n",
    "plt.show()\n",
    "df.plot(kind='line', x='Category', y='Value', marker='o')\n",
    "plt.title('Line Plot of Categories')\n",
    "plt.xlabel('Category')\n",
    "plt.ylabel('Value')\n",
    "plt.show()\n",
    "\n",
    "Data visualization importance in data analysis\n",
    "Data visualization is crucial because it allows for the effective communication of complex information, making patterns, trends, and insights more accessible and understandable. \n",
    "It helps in identifying outliers, comparing data, and making data-driven decisions more intuitive.\n"
   ]
  },
  {
   "cell_type": "markdown",
   "id": "fb0497c6",
   "metadata": {},
   "source": [
    "\n",
    "# Basic File Operations in Python\n",
    "\n",
    "File operations are fundamental for data processing. In this section, we'll cover how to read from and write to files in Python.\n",
    "\n",
    "## Task\n",
    "Write a Python script to read a text file and count the frequency of each word in the file.\n",
    "\n",
    "## Assessment Question\n",
    "- Discuss the different modes of opening a file in Python.\n"
   ]
  },
  {
   "cell_type": "code",
   "execution_count": null,
   "id": "9c87e75d",
   "metadata": {},
   "outputs": [],
   "source": [
    "from collections import Counter\n",
    "import re\n",
    "with open('your_file.txt', 'r') as file:\n",
    "text = file.read()\n",
    "words = re.findall(r'\\b\\w+\\b', text.lower())\n",
    "word_counts = Counter(words)\n",
    "for word, count in word_counts.items():\n",
    "print(f'{word}: {count}')\n",
    "\n",
    "Different modes of opening a file in python:\n",
    "'r': Read only.\n",
    "'w': Write (overwrite or create).\n",
    "'a': Append (write to end).\n",
    "'b': Binary mode.\n",
    "'x': Exclusive create (error if exists).\n",
    "'r+': Read and write.\n",
    "'w+': Write and read (overwrite or create).\n",
    "'a+': Append and read.\n",
    "\n",
    "\n",
    "\n"
   ]
  },
  {
   "cell_type": "markdown",
   "id": "f0324bd0",
   "metadata": {},
   "source": [
    "\n",
    "# Introduction to SciPy\n",
    "\n",
    "SciPy is a Python-based ecosystem of open-source software for mathematics, science, and engineering.\n",
    "\n",
    "## Task\n",
    "Demonstrate a simple mathematical operation using SciPy, like solving a linear equation.\n",
    "\n",
    "## Assessment Question\n",
    "- What is the role of SciPy in scientific computing with Python?\n"
   ]
  },
  {
   "cell_type": "code",
   "execution_count": null,
   "id": "8dcbaa56",
   "metadata": {},
   "outputs": [],
   "source": [
    "from scipy.linalg import solve\n",
    "A = [[3, 2], [1, 2]]\n",
    "b = [5, 4]\n",
    "x = solve(A, b)\n",
    "print('Solution:', x)\n",
    "\n",
    "Role of SciPy in scientific computing in python:\n",
    "SciPy enhances Python's capabilities by offering tools for complex mathematical computations, including optimization, integration, interpolation, and solving linear algebra problems. \n",
    "It builds on NumPy, providing more advanced functionalities for scientific and engineering tasks.\n",
    "\n",
    "\n",
    "\n"
   ]
  },
  {
   "cell_type": "markdown",
   "id": "9052c5f9",
   "metadata": {},
   "source": [
    "## Submission\n",
    "Submit a link to your completed Jupyter Notebook file hosted on your private GitHub repository through the submission link in Blackboard."
   ]
  }
 ],
 "metadata": {
  "kernelspec": {
   "display_name": "Python 3 (ipykernel)",
   "language": "python",
   "name": "python3"
  },
  "language_info": {
   "codemirror_mode": {
    "name": "ipython",
    "version": 3
   },
   "file_extension": ".py",
   "mimetype": "text/x-python",
   "name": "python",
   "nbconvert_exporter": "python",
   "pygments_lexer": "ipython3",
   "version": "3.12.4"
  }
 },
 "nbformat": 4,
 "nbformat_minor": 5
}
